{
 "cells": [
  {
   "cell_type": "markdown",
   "metadata": {},
   "source": [
    "# Prepare Apartment Listings for Analysis"
   ]
  },
  {
   "cell_type": "code",
   "execution_count": 73,
   "metadata": {},
   "outputs": [],
   "source": [
    "import pandas as pd\n",
    "import geopy.distance\n",
    "\n",
    "apts = pd.read_csv('ApartmentList_Information.csv')\n",
    "\n",
    "# Reformatting numeric columns \n",
    "    # Remove ' Units Available', '$', and ' sqft' from the relevant columns\n",
    "apts['apt_footage'] = pd.to_numeric(apts['apt_footage'].str.replace(' sqft',''))\n",
    "apts['building_units_available'] = pd.to_numeric(apts['building_units_available'].str.replace(' Units Available', '').str.replace(' Unit Available', '').str.replace('Contact for Availability', '0'))\n",
    "apts['apt_rent'] = pd.to_numeric(apts['apt_rent'].str.replace('$','').str.replace(',', '').str.replace('Ask', '0'))"
   ]
  },
  {
   "cell_type": "code",
   "execution_count": 74,
   "metadata": {},
   "outputs": [],
   "source": [
    "# Define a function to calculate the number of rooms (assuming there is bedrooms and 1 other room; for studio just 1 room)\n",
    "# Apply the function to create a new column, \"rooms\"\n",
    "def rooms_calc(room_type):\n",
    "    if room_type == 'Studio':\n",
    "        return(1)\n",
    "    else:\n",
    "        no_beds = pd.to_numeric(room_type.replace(' Bedrooms', '').replace(' Bedroom', ''))\n",
    "        return(no_beds + 1)\n",
    "apts['rooms'] = apts['apt_type'].apply(lambda x: rooms_calc(x))"
   ]
  },
  {
   "cell_type": "code",
   "execution_count": 75,
   "metadata": {},
   "outputs": [
    {
     "name": "stderr",
     "output_type": "stream",
     "text": [
      "<ipython-input-75-7488a7da4847>:28: SettingWithCopyWarning: \n",
      "A value is trying to be set on a copy of a slice from a DataFrame\n",
      "\n",
      "See the caveats in the documentation: https://pandas.pydata.org/pandas-docs/stable/user_guide/indexing.html#returning-a-view-versus-a-copy\n",
      "  apts['apt_rent'][i] = studio_mean_rent\n",
      "<ipython-input-75-7488a7da4847>:29: SettingWithCopyWarning: \n",
      "A value is trying to be set on a copy of a slice from a DataFrame\n",
      "\n",
      "See the caveats in the documentation: https://pandas.pydata.org/pandas-docs/stable/user_guide/indexing.html#returning-a-view-versus-a-copy\n",
      "  apts['apt_footage'][i] = studio_mean_sqft\n",
      "<ipython-input-75-7488a7da4847>:34: SettingWithCopyWarning: \n",
      "A value is trying to be set on a copy of a slice from a DataFrame\n",
      "\n",
      "See the caveats in the documentation: https://pandas.pydata.org/pandas-docs/stable/user_guide/indexing.html#returning-a-view-versus-a-copy\n",
      "  apts['apt_rent'][i] = bed_2_mean_rent\n",
      "<ipython-input-75-7488a7da4847>:35: SettingWithCopyWarning: \n",
      "A value is trying to be set on a copy of a slice from a DataFrame\n",
      "\n",
      "See the caveats in the documentation: https://pandas.pydata.org/pandas-docs/stable/user_guide/indexing.html#returning-a-view-versus-a-copy\n",
      "  apts['apt_footage'][i] = bed_2_mean_sqft\n",
      "<ipython-input-75-7488a7da4847>:31: SettingWithCopyWarning: \n",
      "A value is trying to be set on a copy of a slice from a DataFrame\n",
      "\n",
      "See the caveats in the documentation: https://pandas.pydata.org/pandas-docs/stable/user_guide/indexing.html#returning-a-view-versus-a-copy\n",
      "  apts['apt_rent'][i] = bed_1_mean_rent\n",
      "<ipython-input-75-7488a7da4847>:32: SettingWithCopyWarning: \n",
      "A value is trying to be set on a copy of a slice from a DataFrame\n",
      "\n",
      "See the caveats in the documentation: https://pandas.pydata.org/pandas-docs/stable/user_guide/indexing.html#returning-a-view-versus-a-copy\n",
      "  apts['apt_footage'][i] = bed_1_mean_sqft\n",
      "<ipython-input-75-7488a7da4847>:37: SettingWithCopyWarning: \n",
      "A value is trying to be set on a copy of a slice from a DataFrame\n",
      "\n",
      "See the caveats in the documentation: https://pandas.pydata.org/pandas-docs/stable/user_guide/indexing.html#returning-a-view-versus-a-copy\n",
      "  apts['apt_rent'][i] = bed_3_mean_rent\n",
      "<ipython-input-75-7488a7da4847>:38: SettingWithCopyWarning: \n",
      "A value is trying to be set on a copy of a slice from a DataFrame\n",
      "\n",
      "See the caveats in the documentation: https://pandas.pydata.org/pandas-docs/stable/user_guide/indexing.html#returning-a-view-versus-a-copy\n",
      "  apts['apt_footage'][i] = bed_3_mean_sqft\n",
      "<ipython-input-75-7488a7da4847>:43: SettingWithCopyWarning: \n",
      "A value is trying to be set on a copy of a slice from a DataFrame\n",
      "\n",
      "See the caveats in the documentation: https://pandas.pydata.org/pandas-docs/stable/user_guide/indexing.html#returning-a-view-versus-a-copy\n",
      "  apts['apt_rent'][i] = bed_5_mean_rent\n",
      "<ipython-input-75-7488a7da4847>:44: SettingWithCopyWarning: \n",
      "A value is trying to be set on a copy of a slice from a DataFrame\n",
      "\n",
      "See the caveats in the documentation: https://pandas.pydata.org/pandas-docs/stable/user_guide/indexing.html#returning-a-view-versus-a-copy\n",
      "  apts['apt_footage'][i] = bed_5_mean_sqft\n",
      "<ipython-input-75-7488a7da4847>:40: SettingWithCopyWarning: \n",
      "A value is trying to be set on a copy of a slice from a DataFrame\n",
      "\n",
      "See the caveats in the documentation: https://pandas.pydata.org/pandas-docs/stable/user_guide/indexing.html#returning-a-view-versus-a-copy\n",
      "  apts['apt_rent'][i] = bed_4_mean_rent\n",
      "<ipython-input-75-7488a7da4847>:41: SettingWithCopyWarning: \n",
      "A value is trying to be set on a copy of a slice from a DataFrame\n",
      "\n",
      "See the caveats in the documentation: https://pandas.pydata.org/pandas-docs/stable/user_guide/indexing.html#returning-a-view-versus-a-copy\n",
      "  apts['apt_footage'][i] = bed_4_mean_sqft\n",
      "<ipython-input-75-7488a7da4847>:55: SettingWithCopyWarning: \n",
      "A value is trying to be set on a copy of a slice from a DataFrame\n",
      "\n",
      "See the caveats in the documentation: https://pandas.pydata.org/pandas-docs/stable/user_guide/indexing.html#returning-a-view-versus-a-copy\n",
      "  apts['apt_rent'][i] = 0\n",
      "<ipython-input-75-7488a7da4847>:56: SettingWithCopyWarning: \n",
      "A value is trying to be set on a copy of a slice from a DataFrame\n",
      "\n",
      "See the caveats in the documentation: https://pandas.pydata.org/pandas-docs/stable/user_guide/indexing.html#returning-a-view-versus-a-copy\n",
      "  apts['apt_footage'][i] = 0\n",
      "<ipython-input-75-7488a7da4847>:46: SettingWithCopyWarning: \n",
      "A value is trying to be set on a copy of a slice from a DataFrame\n",
      "\n",
      "See the caveats in the documentation: https://pandas.pydata.org/pandas-docs/stable/user_guide/indexing.html#returning-a-view-versus-a-copy\n",
      "  apts['apt_rent'][i] = bed_6_mean_rent\n",
      "<ipython-input-75-7488a7da4847>:47: SettingWithCopyWarning: \n",
      "A value is trying to be set on a copy of a slice from a DataFrame\n",
      "\n",
      "See the caveats in the documentation: https://pandas.pydata.org/pandas-docs/stable/user_guide/indexing.html#returning-a-view-versus-a-copy\n",
      "  apts['apt_footage'][i] = bed_6_mean_sqft\n"
     ]
    }
   ],
   "source": [
    "# # Some janky for-loops to fill in price estimates for apartments where the listing price said \"Ask\"\n",
    "# This will be the average price per bedroom found in the rest of the data\n",
    "\n",
    "studio_mean_rent = apts['apt_rent'][apts['apt_type'] == 'Studio'].mean()\n",
    "bed_1_mean_rent = apts['apt_rent'][apts['apt_type'] == '1 Bedroom'].mean()\n",
    "bed_2_mean_rent = apts['apt_rent'][apts['apt_type'] == '2 Bedrooms'].mean()\n",
    "bed_3_mean_rent = apts['apt_rent'][apts['apt_type'] == '3 Bedrooms'].mean()\n",
    "bed_4_mean_rent = apts['apt_rent'][apts['apt_type'] == '4 Bedrooms'].mean()\n",
    "bed_5_mean_rent = apts['apt_rent'][apts['apt_type'] == '5 Bedrooms'].mean()\n",
    "bed_6_mean_rent = apts['apt_rent'][apts['apt_type'] == '6 Bedrooms'].mean()\n",
    "bed_7_mean_rent = apts['apt_rent'][apts['apt_type'] == '7 Bedrooms'].mean()\n",
    "bed_8_mean_rent = apts['apt_rent'][apts['apt_type'] == '8 Bedrooms'].mean()\n",
    "\n",
    "studio_mean_sqft = apts['apt_footage'][apts['apt_type'] == 'Studio'].mean()\n",
    "bed_1_mean_sqft = apts['apt_footage'][apts['apt_type'] == '1 Bedroom'].mean()\n",
    "bed_2_mean_sqft = apts['apt_footage'][apts['apt_type'] == '2 Bedrooms'].mean()\n",
    "bed_3_mean_sqft = apts['apt_footage'][apts['apt_type'] == '3 Bedrooms'].mean()\n",
    "bed_4_mean_sqft = apts['apt_footage'][apts['apt_type'] == '4 Bedrooms'].mean()\n",
    "bed_5_mean_sqft = apts['apt_footage'][apts['apt_type'] == '5 Bedrooms'].mean()\n",
    "bed_6_mean_sqft = apts['apt_footage'][apts['apt_type'] == '6 Bedrooms'].mean()\n",
    "bed_7_mean_sqft = apts['apt_footage'][apts['apt_type'] == '7 Bedrooms'].mean()\n",
    "bed_8_mean_sqft = apts['apt_footage'][apts['apt_type'] == '8 Bedrooms'].mean()\n",
    "\n",
    "\n",
    "for i in range(0, len(apts)):\n",
    "    if apts['apt_rent'][i] == 0:\n",
    "        if apts['apt_type'][i] == 'Studio':\n",
    "            apts['apt_rent'][i] = studio_mean_rent\n",
    "            apts['apt_footage'][i] = studio_mean_sqft\n",
    "        elif apts['apt_type'][i] == '1 Bedroom':\n",
    "            apts['apt_rent'][i] = bed_1_mean_rent\n",
    "            apts['apt_footage'][i] = bed_1_mean_sqft\n",
    "        elif apts['apt_type'][i] == '2 Bedrooms':\n",
    "            apts['apt_rent'][i] = bed_2_mean_rent\n",
    "            apts['apt_footage'][i] = bed_2_mean_sqft\n",
    "        elif apts['apt_type'][i] == '3 Bedrooms':\n",
    "            apts['apt_rent'][i] = bed_3_mean_rent\n",
    "            apts['apt_footage'][i] = bed_3_mean_sqft\n",
    "        elif apts['apt_type'][i] == '4 Bedrooms':\n",
    "            apts['apt_rent'][i] = bed_4_mean_rent\n",
    "            apts['apt_footage'][i] = bed_4_mean_sqft\n",
    "        elif apts['apt_type'][i] == '5 Bedrooms':\n",
    "            apts['apt_rent'][i] = bed_5_mean_rent\n",
    "            apts['apt_footage'][i] = bed_5_mean_sqft\n",
    "        elif apts['apt_type'][i] == '6 Bedrooms':\n",
    "            apts['apt_rent'][i] = bed_6_mean_rent\n",
    "            apts['apt_footage'][i] = bed_6_mean_sqft\n",
    "        elif apts['apt_type'][i] == '7 Bedrooms':\n",
    "            apts['apt_rent'][i] = bed_7_mean_rent\n",
    "            apts['apt_footage'][i] = bed_6_mean_sqft\n",
    "        elif apts['apt_type'][i] == '8 Bedrooms':\n",
    "            apts['apt_rent'][i] = bed_8_mean_rent\n",
    "            apts['apt_footage'][i] = bed_8_mean_sqft\n",
    "        else:\n",
    "            apts['apt_rent'][i] = 0\n",
    "            apts['apt_footage'][i] = 0"
   ]
  },
  {
   "cell_type": "code",
   "execution_count": 76,
   "metadata": {},
   "outputs": [],
   "source": [
    "apts['apt_footage'] = apts['apt_footage'].round(1)"
   ]
  },
  {
   "cell_type": "code",
   "execution_count": 77,
   "metadata": {},
   "outputs": [],
   "source": [
    "# Read in geocoded apartment list and merge to cleaned apartment list\n",
    "apts_coded = pd.read_csv('ApartmentList_Reformat_Geocoded.csv')\n",
    "apts = pd.merge(apts, apts_coded, on = 'building_address')"
   ]
  },
  {
   "cell_type": "code",
   "execution_count": 78,
   "metadata": {},
   "outputs": [
    {
     "name": "stderr",
     "output_type": "stream",
     "text": [
      "<ipython-input-78-8ec9da53772b>:6: SettingWithCopyWarning: \n",
      "A value is trying to be set on a copy of a slice from a DataFrame\n",
      "\n",
      "See the caveats in the documentation: https://pandas.pydata.org/pandas-docs/stable/user_guide/indexing.html#returning-a-view-versus-a-copy\n",
      "  apts['distance_wh'][i] = geopy.distance.distance(coords_1, coords_2).m\n",
      "<ipython-input-78-8ec9da53772b>:12: SettingWithCopyWarning: \n",
      "A value is trying to be set on a copy of a slice from a DataFrame\n",
      "\n",
      "See the caveats in the documentation: https://pandas.pydata.org/pandas-docs/stable/user_guide/indexing.html#returning-a-view-versus-a-copy\n",
      "  apts['distance_cap'][i] = geopy.distance.distance(coords_1, coords_2).m\n"
     ]
    }
   ],
   "source": [
    "# Some janky for-loops to get distance from the apt to the white house and capitol building, in meters\n",
    "apts['distance_wh'] = 0\n",
    "for i in range(0, len(apts)):\n",
    "    coords_1 = (38.898060, -77.035435)\n",
    "    coords_2 = (apts['latitude'][i], apts['longitude'][i])\n",
    "    apts['distance_wh'][i] = geopy.distance.distance(coords_1, coords_2).m\n",
    "\n",
    "apts['distance_cap'] = 0\n",
    "for i in range(0, len(apts)):\n",
    "    coords_1 = (38.890047, -77.008546)\n",
    "    coords_2 = (apts['latitude'][i], apts['longitude'][i])\n",
    "    apts['distance_cap'][i] = geopy.distance.distance(coords_1, coords_2).m"
   ]
  },
  {
   "cell_type": "code",
   "execution_count": 79,
   "metadata": {},
   "outputs": [],
   "source": [
    "apts.to_csv('ApartmentList_Cleaned.csv', index = False)"
   ]
  },
  {
   "cell_type": "code",
   "execution_count": 80,
   "metadata": {},
   "outputs": [],
   "source": [
    "# Removing outliers more than 10 standard deviations from the mean. The reason for this becomes clear in step 4: Data Visualization\n",
    "apts['zscore_price'] = (apts['apt_rent'] - apts['apt_rent'].mean())/apts['apt_rent'].std(ddof=0)\n",
    "apts_no_outliers = apts[np.abs(apts['zscore_price']) < 10]\n",
    "apts_no_outliers.to_csv('ApartmentList_Cleaned_NoOutliers.csv', index = False)"
   ]
  },
  {
   "cell_type": "code",
   "execution_count": null,
   "metadata": {},
   "outputs": [],
   "source": []
  }
 ],
 "metadata": {
  "kernelspec": {
   "display_name": "Python 3",
   "language": "python",
   "name": "python3"
  },
  "language_info": {
   "codemirror_mode": {
    "name": "ipython",
    "version": 3
   },
   "file_extension": ".py",
   "mimetype": "text/x-python",
   "name": "python",
   "nbconvert_exporter": "python",
   "pygments_lexer": "ipython3",
   "version": "3.8.3"
  }
 },
 "nbformat": 4,
 "nbformat_minor": 4
}
