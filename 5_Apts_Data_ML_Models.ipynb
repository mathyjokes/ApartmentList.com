{
 "cells": [
  {
   "cell_type": "markdown",
   "metadata": {},
   "source": [
    "# Build Random Forest Model"
   ]
  },
  {
   "cell_type": "code",
   "execution_count": 13,
   "metadata": {},
   "outputs": [],
   "source": [
    "# Cheers again to Brunna Torino for their great analysis of real estate prices in Amsterdam \n",
    "# (https://towardsdatascience.com/ai-and-real-state-renting-in-amsterdam-part-1-5fce18238dbc)\n",
    "# The ideas have been repurposed here to deal with the Washington, DC real estate market!"
   ]
  },
  {
   "cell_type": "code",
   "execution_count": 24,
   "metadata": {},
   "outputs": [],
   "source": [
    "import numpy as np\n",
    "import pandas as pd\n",
    "\n",
    "apts = pd.read_csv('ApartmentList_Cleaned_NoOutliers.csv')\n",
    "apts_ml = apts[['apt_rent', 'apt_footage', 'rooms', 'distance_wh', 'distance_cap', 'building_units_available']]"
   ]
  },
  {
   "cell_type": "code",
   "execution_count": 16,
   "metadata": {},
   "outputs": [],
   "source": [
    "target= np.array(apts_ml['apt_rent'])\n",
    "features = apts_ml.drop('apt_rent', axis = 1)\n",
    "feature_list = list(features.columns)\n",
    "features = np.array(features)"
   ]
  },
  {
   "cell_type": "code",
   "execution_count": 17,
   "metadata": {},
   "outputs": [
    {
     "name": "stdout",
     "output_type": "stream",
     "text": [
      "Mean Absolute Error: 322.79\n",
      "Accuracy: 87.33 %.\n",
      "Mean Absolute Error: 357.17\n",
      "Accuracy: 88.38 %.\n",
      "Mean Absolute Error: 316.04\n",
      "Accuracy: 88.19 %.\n",
      "Mean Absolute Error: 327.07\n",
      "Accuracy: 88.06 %.\n",
      "Mean Absolute Error: 373.03\n",
      "Accuracy: 88.01 %.\n",
      "Mean Absolute Error: 333.51\n",
      "Accuracy: -inf %.\n"
     ]
    },
    {
     "name": "stderr",
     "output_type": "stream",
     "text": [
      "<ipython-input-17-f34e893dc719>:30: RuntimeWarning: divide by zero encountered in true_divide\n",
      "  mape = 100 * (errors / target_test)\n"
     ]
    },
    {
     "name": "stdout",
     "output_type": "stream",
     "text": [
      "Mean Absolute Error: 328.35\n",
      "Accuracy: 88.36 %.\n",
      "Mean Absolute Error: 386.82\n",
      "Accuracy: 87.63 %.\n",
      "Mean Absolute Error: 363.49\n",
      "Accuracy: -inf %.\n"
     ]
    },
    {
     "name": "stderr",
     "output_type": "stream",
     "text": [
      "<ipython-input-17-f34e893dc719>:30: RuntimeWarning: divide by zero encountered in true_divide\n",
      "  mape = 100 * (errors / target_test)\n"
     ]
    },
    {
     "name": "stdout",
     "output_type": "stream",
     "text": [
      "Mean Absolute Error: 292.91\n",
      "Accuracy: 88.98 %.\n",
      "Average accuracy: -inf\n"
     ]
    }
   ],
   "source": [
    "## RANDOM FOREST - KFOLD AND MODEL \n",
    "\n",
    "\n",
    "from sklearn.model_selection import KFold\n",
    "from sklearn.ensemble import RandomForestRegressor\n",
    "    \n",
    "kf = KFold(n_splits=10,random_state=42,shuffle=True)\n",
    "accuracies = []\n",
    "for train_index, test_index in kf.split(features):\n",
    "\n",
    "    data_train   = features[train_index]\n",
    "    target_train = target[train_index]\n",
    "\n",
    "    data_test    = features[test_index]\n",
    "    target_test  = target[test_index]\n",
    "\n",
    "    rf = RandomForestRegressor(n_estimators = 1000, \n",
    "                               random_state = 42, \n",
    "                               criterion = 'mse',\n",
    "                               bootstrap=True)\n",
    "    \n",
    "    rf.fit(data_train, target_train)\n",
    "\n",
    "    predictions = rf.predict(data_test)\n",
    "\n",
    "    errors = abs(predictions - target_test)\n",
    "\n",
    "    print('Mean Absolute Error:', round(np.mean(errors), 2))\n",
    "    \n",
    "    mape = 100 * (errors / target_test)\n",
    "    accuracy = 100 - np.mean(mape)\n",
    "    print('Accuracy:', round(accuracy, 2), '%.')\n",
    "\n",
    "    accuracies.append(accuracy)\n",
    "\n",
    "average_accuracy = np.mean(accuracies)\n",
    "print('Average accuracy:', average_accuracy)"
   ]
  },
  {
   "cell_type": "code",
   "execution_count": 18,
   "metadata": {},
   "outputs": [
    {
     "name": "stdout",
     "output_type": "stream",
     "text": [
      "{'n_estimators': [200, 400, 600, 800, 1000, 1200, 1400, 1600, 1800, 2000], 'max_features': ['auto', 'sqrt'], 'max_depth': [10, 20, 30, 40, 50, 60, 70, 80, 90, 100, 110, None], 'min_samples_split': [2, 5, 10], 'min_samples_leaf': [1, 2, 4], 'bootstrap': [True, False]}\n"
     ]
    }
   ],
   "source": [
    "# That was not great - look at average accuracy! Let's do some hyperparameter tuning to get more accurate models\n",
    "\n",
    "from sklearn.model_selection import RandomizedSearchCV\n",
    "\n",
    "# Number of trees in random forest\n",
    "n_estimators = [int(x) for x in np.linspace(start = 200, stop = 2000, num = 10)]\n",
    "# Number of features to consider at every split\n",
    "max_features = ['auto', 'sqrt']\n",
    "# Maximum number of levels in tree\n",
    "max_depth = [int(x) for x in np.linspace(10, 110, num = 11)]\n",
    "max_depth.append(None)\n",
    "# Minimum number of samples required to split a node\n",
    "min_samples_split = [2, 5, 10]\n",
    "# Minimum number of samples required at each leaf node\n",
    "min_samples_leaf = [1, 2, 4]\n",
    "# Method of selecting samples for training each tree\n",
    "bootstrap = [True, False]\n",
    "# Create the random grid\n",
    "random_grid = {'n_estimators': n_estimators,\n",
    "               'max_features': max_features,\n",
    "               'max_depth': max_depth,\n",
    "               'min_samples_split': min_samples_split,\n",
    "               'min_samples_leaf': min_samples_leaf,\n",
    "               'bootstrap': bootstrap}\n",
    "print(random_grid)"
   ]
  },
  {
   "cell_type": "code",
   "execution_count": 19,
   "metadata": {},
   "outputs": [
    {
     "name": "stdout",
     "output_type": "stream",
     "text": [
      "Fitting 3 folds for each of 100 candidates, totalling 300 fits\n"
     ]
    },
    {
     "name": "stderr",
     "output_type": "stream",
     "text": [
      "[Parallel(n_jobs=-1)]: Using backend LokyBackend with 4 concurrent workers.\n",
      "[Parallel(n_jobs=-1)]: Done  33 tasks      | elapsed:  1.0min\n",
      "[Parallel(n_jobs=-1)]: Done 154 tasks      | elapsed:  5.2min\n",
      "[Parallel(n_jobs=-1)]: Done 300 out of 300 | elapsed:  9.5min finished\n"
     ]
    },
    {
     "name": "stdout",
     "output_type": "stream",
     "text": [
      "{'n_estimators': 200, 'min_samples_split': 2, 'min_samples_leaf': 1, 'max_features': 'sqrt', 'max_depth': 50, 'bootstrap': True}\n"
     ]
    }
   ],
   "source": [
    "# Return the best parameters\n",
    "# Use the random grid to search for best hyperparameters\n",
    "# First create the base model to tune\n",
    "rf = RandomForestRegressor()\n",
    "# Random search of parameters, using 3 fold cross validation, \n",
    "# search across 100 different combinations, and use all available cores\n",
    "rf_random = RandomizedSearchCV(estimator = rf, param_distributions = random_grid, n_iter = 100, cv = 3, verbose=2, random_state=42, n_jobs = -1)\n",
    "# Fit the random search model\n",
    "rf_random.fit(data_train, target_train)\n",
    "\n",
    "print(rf_random.best_params_)"
   ]
  },
  {
   "cell_type": "code",
   "execution_count": 20,
   "metadata": {},
   "outputs": [
    {
     "name": "stdout",
     "output_type": "stream",
     "text": [
      "Mean Absolute Error: 318.68\n",
      "Accuracy: 87.74 %.\n",
      "Mean Absolute Error: 360.6\n",
      "Accuracy: 88.09 %.\n",
      "Mean Absolute Error: 329.49\n",
      "Accuracy: 87.47 %.\n",
      "Mean Absolute Error: 327.37\n",
      "Accuracy: 87.9 %.\n",
      "Mean Absolute Error: 375.22\n",
      "Accuracy: 88.16 %.\n",
      "Mean Absolute Error: 339.83\n",
      "Accuracy: -inf %.\n"
     ]
    },
    {
     "name": "stderr",
     "output_type": "stream",
     "text": [
      "<ipython-input-20-0294f84bdd7c>:37: RuntimeWarning: divide by zero encountered in true_divide\n",
      "  mape = 100 * (errors / target_test)\n"
     ]
    },
    {
     "name": "stdout",
     "output_type": "stream",
     "text": [
      "Mean Absolute Error: 325.19\n",
      "Accuracy: 88.32 %.\n",
      "Mean Absolute Error: 375.4\n",
      "Accuracy: 87.86 %.\n",
      "Mean Absolute Error: 358.21\n",
      "Accuracy: -inf %.\n"
     ]
    },
    {
     "name": "stderr",
     "output_type": "stream",
     "text": [
      "<ipython-input-20-0294f84bdd7c>:37: RuntimeWarning: divide by zero encountered in true_divide\n",
      "  mape = 100 * (errors / target_test)\n"
     ]
    },
    {
     "name": "stdout",
     "output_type": "stream",
     "text": [
      "Mean Absolute Error: 291.97\n",
      "Accuracy: 88.75 %.\n",
      "Average accuracy: -inf\n"
     ]
    }
   ],
   "source": [
    "# Ok now let's include best parameters in the model\n",
    "# Best parameters from above: {'n_estimators': 200, 'min_samples_split': 2, 'min_samples_leaf': 1, 'max_features': 'sqrt', 'max_depth': 50, 'bootstrap': True}\n",
    "\n",
    "## RANDOM FOREST - KFOLD AND MODEL \n",
    "\n",
    "\n",
    "from sklearn.model_selection import KFold\n",
    "from sklearn.ensemble import RandomForestRegressor\n",
    "    \n",
    "kf = KFold(n_splits=10,random_state=42,shuffle=True)\n",
    "accuracies = []\n",
    "for train_index, test_index in kf.split(features):\n",
    "\n",
    "    data_train   = features[train_index]\n",
    "    target_train = target[train_index]\n",
    "\n",
    "    data_test    = features[test_index]\n",
    "    target_test  = target[test_index]\n",
    "\n",
    "    rf = RandomForestRegressor(n_estimators = 200, \n",
    "                               random_state = 42, \n",
    "                               criterion = 'mse',\n",
    "                               min_samples_leaf = 1,\n",
    "                               min_samples_split= 2,\n",
    "                               max_features = 'sqrt',\n",
    "                               bootstrap=True,\n",
    "                               max_depth = 50)\n",
    "    \n",
    "    rf.fit(data_train, target_train)\n",
    "\n",
    "    predictions = rf.predict(data_test)\n",
    "\n",
    "    errors = abs(predictions - target_test)\n",
    "\n",
    "    print('Mean Absolute Error:', round(np.mean(errors), 2))\n",
    "    \n",
    "    mape = 100 * (errors / target_test)\n",
    "    accuracy = 100 - np.mean(mape)\n",
    "    print('Accuracy:', round(accuracy, 2), '%.')\n",
    "\n",
    "    accuracies.append(accuracy)\n",
    "\n",
    "average_accuracy = np.mean(accuracies)\n",
    "print('Average accuracy:', average_accuracy)\n"
   ]
  },
  {
   "cell_type": "code",
   "execution_count": 21,
   "metadata": {},
   "outputs": [
    {
     "name": "stdout",
     "output_type": "stream",
     "text": [
      "[0.411915201766435, 0.26746918809709563, 0.14214615776703213, 0.14603859547338463, 0.032430856896052636]\n",
      "[(array([0], dtype=int64),), (array([1], dtype=int64),), (array([2], dtype=int64),), (array([3], dtype=int64),), (array([4], dtype=int64),)]\n"
     ]
    }
   ],
   "source": [
    "# Still not great.. let's see what's going on. Now let's save that tree and see what it looks like!\n",
    "## SAVING THE DECISION TREE \n",
    "\n",
    "from sklearn.tree import export_graphviz\n",
    "import pydot\n",
    "tree = rf.estimators_[5]\n",
    "export_graphviz(tree, out_file = 'tree.dot', feature_names = feature_list, rounded = True, precision = 1)\n",
    "(graph, ) = pydot.graph_from_dot_file('tree.dot')\n",
    "graph.write_png('tree.png')\n",
    "\n",
    "# Now let's take a look at feature importance\n",
    "y = rf.feature_importances_\n",
    "list_y = [a for a in y if a > 0.005]\n",
    "print(list_y)\n",
    "\n",
    "list_of_index = []\n",
    "for i in list_y:\n",
    "    a = np.where(y==i)\n",
    "    list_of_index.append(a)\n",
    "print(list_of_index)"
   ]
  },
  {
   "cell_type": "code",
   "execution_count": 22,
   "metadata": {},
   "outputs": [],
   "source": [
    "# We also want to know which features were most important to the decisions\n",
    "\n",
    "# Get it in right format and add labels\n",
    "list_of_index = [0,1,2,3,4]\n",
    "col = []\n",
    "for i in feature_list:\n",
    "    col.append(i)\n",
    "labels = []\n",
    "for i in list_of_index:\n",
    "    b = col[i]\n",
    "    labels.append(b)"
   ]
  },
  {
   "cell_type": "code",
   "execution_count": 23,
   "metadata": {},
   "outputs": [
    {
     "data": {
      "image/png": "[encoded data removed]",
      "text/plain": [
       "<Figure size 720x612 with 1 Axes>"
      ]
     },
     "metadata": {
      "needs_background": "light"
     },
     "output_type": "display_data"
    },
    {
     "data": {
      "text/plain": [
       "<Figure size 720x612 with 0 Axes>"
      ]
     },
     "metadata": {},
     "output_type": "display_data"
    }
   ],
   "source": [
    "# Plot most important features\n",
    "import matplotlib.pyplot as plt\n",
    "y = list_y\n",
    "fig, ax = plt.subplots() \n",
    "width = 0.8\n",
    "ind = np.arange(len(y)) \n",
    "ax.barh(ind, y,width, color=\"pink\")\n",
    "ax.set_yticks(ind+width/10)\n",
    "ax.set_yticklabels(labels, minor=False)\n",
    "plt.title('Feature importance in Random Forest Regression')\n",
    "plt.xlabel('Relative importance')\n",
    "plt.ylabel('feature') \n",
    "plt.figure(figsize=(10,8.5))\n",
    "fig.set_size_inches(10, 8.5, forward=True)"
   ]
  },
  {
   "cell_type": "code",
   "execution_count": 25,
   "metadata": {},
   "outputs": [
    {
     "data": {
      "text/html": [
       "<div>\n",
       "<style scoped>\n",
       "    .dataframe tbody tr th:only-of-type {\n",
       "        vertical-align: middle;\n",
       "    }\n",
       "\n",
       "    .dataframe tbody tr th {\n",
       "        vertical-align: top;\n",
       "    }\n",
       "\n",
       "    .dataframe thead th {\n",
       "        text-align: right;\n",
       "    }\n",
       "</style>\n",
       "<table border=\"1\" class=\"dataframe\">\n",
       "  <thead>\n",
       "    <tr style=\"text-align: right;\">\n",
       "      <th></th>\n",
       "      <th>apt_rent</th>\n",
       "      <th>apt_footage</th>\n",
       "      <th>rooms</th>\n",
       "      <th>distance_wh</th>\n",
       "      <th>distance_cap</th>\n",
       "      <th>building_units_available</th>\n",
       "    </tr>\n",
       "  </thead>\n",
       "  <tbody>\n",
       "    <tr>\n",
       "      <th>0</th>\n",
       "      <td>1427</td>\n",
       "      <td>456</td>\n",
       "      <td>1</td>\n",
       "      <td>933</td>\n",
       "      <td>2966</td>\n",
       "      <td>52</td>\n",
       "    </tr>\n",
       "    <tr>\n",
       "      <th>1</th>\n",
       "      <td>1677</td>\n",
       "      <td>610</td>\n",
       "      <td>2</td>\n",
       "      <td>933</td>\n",
       "      <td>2966</td>\n",
       "      <td>52</td>\n",
       "    </tr>\n",
       "    <tr>\n",
       "      <th>2</th>\n",
       "      <td>2078</td>\n",
       "      <td>762</td>\n",
       "      <td>2</td>\n",
       "      <td>5893</td>\n",
       "      <td>7877</td>\n",
       "      <td>13</td>\n",
       "    </tr>\n",
       "    <tr>\n",
       "      <th>3</th>\n",
       "      <td>2876</td>\n",
       "      <td>1182</td>\n",
       "      <td>3</td>\n",
       "      <td>5893</td>\n",
       "      <td>7877</td>\n",
       "      <td>13</td>\n",
       "    </tr>\n",
       "    <tr>\n",
       "      <th>4</th>\n",
       "      <td>2078</td>\n",
       "      <td>762</td>\n",
       "      <td>2</td>\n",
       "      <td>5893</td>\n",
       "      <td>7877</td>\n",
       "      <td>13</td>\n",
       "    </tr>\n",
       "    <tr>\n",
       "      <th>...</th>\n",
       "      <td>...</td>\n",
       "      <td>...</td>\n",
       "      <td>...</td>\n",
       "      <td>...</td>\n",
       "      <td>...</td>\n",
       "      <td>...</td>\n",
       "    </tr>\n",
       "    <tr>\n",
       "      <th>1992</th>\n",
       "      <td>1311</td>\n",
       "      <td>480</td>\n",
       "      <td>1</td>\n",
       "      <td>1706</td>\n",
       "      <td>1734</td>\n",
       "      <td>1</td>\n",
       "    </tr>\n",
       "    <tr>\n",
       "      <th>1993</th>\n",
       "      <td>1651</td>\n",
       "      <td>719</td>\n",
       "      <td>2</td>\n",
       "      <td>1706</td>\n",
       "      <td>1734</td>\n",
       "      <td>1</td>\n",
       "    </tr>\n",
       "    <tr>\n",
       "      <th>1994</th>\n",
       "      <td>3135</td>\n",
       "      <td>1140</td>\n",
       "      <td>3</td>\n",
       "      <td>1706</td>\n",
       "      <td>1734</td>\n",
       "      <td>1</td>\n",
       "    </tr>\n",
       "    <tr>\n",
       "      <th>1995</th>\n",
       "      <td>2200</td>\n",
       "      <td>575</td>\n",
       "      <td>2</td>\n",
       "      <td>4547</td>\n",
       "      <td>2063</td>\n",
       "      <td>1</td>\n",
       "    </tr>\n",
       "    <tr>\n",
       "      <th>1996</th>\n",
       "      <td>10000</td>\n",
       "      <td>2636</td>\n",
       "      <td>6</td>\n",
       "      <td>2359</td>\n",
       "      <td>3046</td>\n",
       "      <td>1</td>\n",
       "    </tr>\n",
       "  </tbody>\n",
       "</table>\n",
       "<p>1997 rows × 6 columns</p>\n",
       "</div>"
      ],
      "text/plain": [
       "      apt_rent  apt_footage  rooms  distance_wh  distance_cap  \\\n",
       "0         1427          456      1          933          2966   \n",
       "1         1677          610      2          933          2966   \n",
       "2         2078          762      2         5893          7877   \n",
       "3         2876         1182      3         5893          7877   \n",
       "4         2078          762      2         5893          7877   \n",
       "...        ...          ...    ...          ...           ...   \n",
       "1992      1311          480      1         1706          1734   \n",
       "1993      1651          719      2         1706          1734   \n",
       "1994      3135         1140      3         1706          1734   \n",
       "1995      2200          575      2         4547          2063   \n",
       "1996     10000         2636      6         2359          3046   \n",
       "\n",
       "      building_units_available  \n",
       "0                           52  \n",
       "1                           52  \n",
       "2                           13  \n",
       "3                           13  \n",
       "4                           13  \n",
       "...                        ...  \n",
       "1992                         1  \n",
       "1993                         1  \n",
       "1994                         1  \n",
       "1995                         1  \n",
       "1996                         1  \n",
       "\n",
       "[1997 rows x 6 columns]"
      ]
     },
     "execution_count": 25,
     "metadata": {},
     "output_type": "execute_result"
    }
   ],
   "source": [
    "apts_ml"
   ]
  },
  {
   "cell_type": "code",
   "execution_count": 26,
   "metadata": {},
   "outputs": [
    {
     "data": {
      "text/plain": [
       "array([2666.935])"
      ]
     },
     "execution_count": 26,
     "metadata": {},
     "output_type": "execute_result"
    }
   ],
   "source": [
    "# create a new dataframe that is indexed like the trained model\n",
    "newdata = pd.DataFrame().reindex_like(apts_ml)\n",
    "newdata.fillna(value=0, inplace=True)\n",
    "\n",
    "# delete the variable to be predicted\n",
    "del newdata['apt_rent']\n",
    "newdata = newdata.iloc[[1]]\n",
    "\n",
    "# insert information about your apartment \n",
    "newdata['rooms'] = 3\n",
    "newdata['apt_footage'] = 600\n",
    "newdata['distance_wh'] = 3218\n",
    "newdata['distance_cap'] = 5632\n",
    "newdata['building_units_available'] = 2\n",
    "\n",
    "\n",
    "rf.predict(newdata)"
   ]
  },
  {
   "cell_type": "code",
   "execution_count": null,
   "metadata": {},
   "outputs": [],
   "source": []
  }
 ],
 "metadata": {
  "kernelspec": {
   "display_name": "Python 3",
   "language": "python",
   "name": "python3"
  },
  "language_info": {
   "codemirror_mode": {
    "name": "ipython",
    "version": 3
   },
   "file_extension": ".py",
   "mimetype": "text/x-python",
   "name": "python",
   "nbconvert_exporter": "python",
   "pygments_lexer": "ipython3",
   "version": "3.8.3"
  }
 },
 "nbformat": 4,
 "nbformat_minor": 4
}
