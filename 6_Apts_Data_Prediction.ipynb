{
 "cells": [
  {
   "cell_type": "markdown",
   "metadata": {},
   "source": [
    "# Use Pre-Tuned Model for Prediction"
   ]
  },
  {
   "cell_type": "code",
   "execution_count": null,
   "metadata": {},
   "outputs": [],
   "source": [
    "\n",
    "\n",
    "# create a new dataframe that is indexed like the trained model\n",
    "newdata = pd.DataFrame().reindex_like(apts_ml)\n",
    "newdata.fillna(value=0, inplace=True)\n",
    "\n",
    "# delete the variable to be predicted\n",
    "del newdata['apt_rent']\n",
    "newdata = newdata.iloc[[1]]\n",
    "\n",
    "# insert information about your apartment \n",
    "newdata['rooms'] = 3\n",
    "newdata['apt_footage'] = 600\n",
    "newdata['distance_wh'] = 3218\n",
    "newdata['distance_cap'] = 5632\n",
    "newdata['building_units_available'] = 2\n",
    "\n",
    "\n",
    "rf.predict(newdata)"
   ]
  },
  {
   "cell_type": "code",
   "execution_count": null,
   "metadata": {},
   "outputs": [],
   "source": []
  }
 ],
 "metadata": {
  "kernelspec": {
   "display_name": "Python 3",
   "language": "python",
   "name": "python3"
  },
  "language_info": {
   "codemirror_mode": {
    "name": "ipython",
    "version": 3
   },
   "file_extension": ".py",
   "mimetype": "text/x-python",
   "name": "python",
   "nbconvert_exporter": "python",
   "pygments_lexer": "ipython3",
   "version": "3.8.3"
  }
 },
 "nbformat": 4,
 "nbformat_minor": 4
}
