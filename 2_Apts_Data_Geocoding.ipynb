{
 "cells": [
  {
   "cell_type": "markdown",
   "metadata": {},
   "source": [
    "# Geocode Apartment Addresses"
   ]
  },
  {
   "cell_type": "code",
   "execution_count": null,
   "metadata": {},
   "outputs": [],
   "source": [
    "import pandas as pd\n",
    "import googlemaps\n",
    "\n",
    "apts = pd.read_csv('ApartmentList_Information.csv')\n",
    "\n",
    "\n",
    "# Geocode addresses to get lat/longs\n",
    "gmaps = googlemaps.Client(key='YOUR KEY HERE')\n",
    "\n",
    "# Set up variables\n",
    "lats = []\n",
    "lngs = []\n",
    "i = 0\n",
    "for add in apts['building_address'].unique()[890:]:\n",
    "    geocode_result = gmaps.geocode(add)\n",
    "    if geocode_result != []:\n",
    "        lats.append(geocode_result[0]['geometry']['location']['lat'])\n",
    "        lngs.append(geocode_result[0]['geometry']['location']['lng'])\n",
    "    else:\n",
    "        lats.append('invalid address')\n",
    "        lngs.append('invalid address')\n",
    "    i = i+1\n",
    "    if i%50 == 0:\n",
    "        print('{}th entry: {}'.format(i, add))\n",
    " \n",
    "# Add all infromation to a dataframe\n",
    "adds_coded = pd.DataFrame({'building_address' : apts['building_address'].unique(),\n",
    "                            'latitude' : lats,\n",
    "                            'longitude' : lngs }, \n",
    "                            columns=['building_address','latitude', 'longitude'])\n",
    "\n",
    "# Write dataframe out\n",
    "apts_coded.to_csv(\"ApartmentList_Reformat_Geocoded.csv\", index = False)"
   ]
  }
 ],
 "metadata": {
  "kernelspec": {
   "display_name": "Python 3",
   "language": "python",
   "name": "python3"
  },
  "language_info": {
   "codemirror_mode": {
    "name": "ipython",
    "version": 3
   },
   "file_extension": ".py",
   "mimetype": "text/x-python",
   "name": "python",
   "nbconvert_exporter": "python",
   "pygments_lexer": "ipython3",
   "version": "3.8.3"
  }
 },
 "nbformat": 4,
 "nbformat_minor": 4
}
